{
 "cells": [
  {
   "cell_type": "code",
   "execution_count": 1,
   "id": "441b3acb",
   "metadata": {},
   "outputs": [],
   "source": [
    "import sys\n",
    "sys.path.append(\"C:\\scripts\\Imaging analysis\")\n",
    "import numpy as np\n",
    "import scipy.io as scio\n",
    "import matplotlib.pyplot as plt\n",
    "import session\n",
    "from matplotlib.pyplot import figure\n",
    "from numpy import concatenate as cat\n",
    "from sklearn.preprocessing import normalize\n",
    "import quality\n",
    "import bootstrap\n",
    "\n"
   ]
  },
  {
   "cell_type": "code",
   "execution_count": null,
   "id": "8500e1b5",
   "metadata": {},
   "outputs": [],
   "source": [
    "path = r'F:\\data\\BAYLORCW021\\python\\2023_02_13'\n",
    "d1 = bootstrap.Sample(path)\n",
    "\n",
    "scores1 = d1.run_iter_log_timesteps()\n",
    "\n",
    "plt.plot(scores1)\n",
    "plt.show()\n"
   ]
  },
  {
   "cell_type": "code",
   "execution_count": null,
   "id": "e33ad9f7",
   "metadata": {},
   "outputs": [],
   "source": [
    "path = r'F:\\data\\BAYLORCW021\\python\\2023_04_27'\n",
    "d = bootstrap.Sample(path)\n",
    "\n",
    "scores = d.run_iter_log_timesteps()\n",
    "\n",
    "plt.plot(scores)\n",
    "\n",
    "plt.show()"
   ]
  }
 ],
 "metadata": {
  "kernelspec": {
   "display_name": "Python 3 (Spyder)",
   "language": "python3",
   "name": "python3"
  },
  "language_info": {
   "codemirror_mode": {
    "name": "ipython",
    "version": 3
   },
   "file_extension": ".py",
   "mimetype": "text/x-python",
   "name": "python",
   "nbconvert_exporter": "python",
   "pygments_lexer": "ipython3",
   "version": "3.9.13"
  }
 },
 "nbformat": 4,
 "nbformat_minor": 5
}
