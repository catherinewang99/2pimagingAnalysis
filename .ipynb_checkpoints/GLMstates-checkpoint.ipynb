{
 "cells": [
  {
   "cell_type": "markdown",
   "id": "d8d54e29",
   "metadata": {},
   "source": [
    "# GLM for single regressors"
   ]
  },
  {
   "cell_type": "code",
   "execution_count": 2,
   "id": "87ec1097",
   "metadata": {},
   "outputs": [],
   "source": [
    "import numpy as np\n",
    "import pandas as pd\n",
    "import matplotlib.pyplot as plt\n",
    "import sys\n",
    "sys.path.insert(0, '..')\n",
    "sys.path.append(r'C:\\scripts\\Behavior state\\code\\glmhmm')\n",
    "sys.path.append(r'C:\\scripts\\Behavior state\\CW30')"
   ]
  },
  {
   "cell_type": "code",
   "execution_count": null,
   "id": "fb1ac354",
   "metadata": {},
   "outputs": [],
   "source": []
  }
 ],
 "metadata": {
  "kernelspec": {
   "display_name": "Python 3 (Spyder)",
   "language": "python3",
   "name": "python3"
  },
  "language_info": {
   "codemirror_mode": {
    "name": "ipython",
    "version": 3
   },
   "file_extension": ".py",
   "mimetype": "text/x-python",
   "name": "python",
   "nbconvert_exporter": "python",
   "pygments_lexer": "ipython3",
   "version": "3.9.13"
  }
 },
 "nbformat": 4,
 "nbformat_minor": 5
}
